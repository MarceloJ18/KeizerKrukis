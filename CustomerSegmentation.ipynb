{
 "cells": [
  {
   "attachments": {},
   "cell_type": "markdown",
   "metadata": {},
   "source": [
    "# Machine Learning II Project\n",
    "\n",
    "Group Members:\n",
    "- Daniel Kruk 20211687\n",
    "- Marcelo Junior 20211677<br>\n",
    "\n",
    "# Customer Segmentation <br>\n",
    "The main goal of this notebook is to identify relevant customer segments using statistical and machine learning techniques. In Notebook 1, we explored the customer_info and customer_basket datasets and performed some data cleaning and preprocessing. In this notebook, we will use these datasets to cluster customers based on their shared characteristics and develop targeted marketing strategies."
   ]
  },
  {
   "attachments": {},
   "cell_type": "markdown",
   "metadata": {},
   "source": [
    "## Libraries\n",
    "Firstly, we will import the needed libraries:"
   ]
  },
  {
   "cell_type": "code",
   "execution_count": 1,
   "metadata": {},
   "outputs": [
    {
     "name": "stderr",
     "output_type": "stream",
     "text": [
      "Intel(R) Extension for Scikit-learn* enabled (https://github.com/intel/scikit-learn-intelex)\n"
     ]
    }
   ],
   "source": [
    "import pandas as pd\n",
    "import numpy as np\n",
    "import seaborn as sns\n",
    "import matplotlib.pyplot as plt\n",
    "from sklearn.preprocessing import StandardScaler\n",
    "from sklearn.cluster import KMeans\n",
    "from sklearn.decomposition import PCA\n",
    "from sklearn.metrics import silhouette_score\n",
    "\n",
    "# Optional Intel Acceleration\n",
    "from sklearnex import patch_sklearn\n",
    "patch_sklearn()\n"
   ]
  },
  {
   "attachments": {},
   "cell_type": "markdown",
   "metadata": {},
   "source": [
    "## Preparing the data\n",
    "In this step, we will prepare the data for clustering.<br>\n",
    "The importation of the data will be followed by the removal of unecessary columns for this part."
   ]
  },
  {
   "cell_type": "code",
   "execution_count": 2,
   "metadata": {},
   "outputs": [],
   "source": [
    "# Dataset Importation\n",
    "path = '/Users/marcelojunior/Documents/Nova IMS - Lisboa (2021 - 2024)/4º Semestre/Machine Learning II.nosync/KeizerKrukis/Project Data/'\n",
    "\n",
    "# Customer Info Preprocessed\n",
    "customer_info_ppc = pd.read_csv(path + \"Customer Info PPC.csv\")\n",
    "\n",
    "# Customer Basket Preprocessed\n",
    "customer_basket_ppc = pd.read_csv(path + \"Customer Basket PPC.csv\")"
   ]
  },
  {
   "cell_type": "code",
   "execution_count": 3,
   "metadata": {},
   "outputs": [
    {
     "name": "stdout",
     "output_type": "stream",
     "text": [
      "<class 'pandas.core.frame.DataFrame'>\n",
      "RangeIndex: 29774 entries, 0 to 29773\n",
      "Data columns (total 28 columns):\n",
      " #   Column                                   Non-Null Count  Dtype  \n",
      "---  ------                                   --------------  -----  \n",
      " 0   customer_id                              29774 non-null  int64  \n",
      " 1   customer_name                            29774 non-null  object \n",
      " 2   highest_education                        29774 non-null  int64  \n",
      " 3   customer_gender                          29774 non-null  int64  \n",
      " 4   Age                                      29774 non-null  int64  \n",
      " 5   kids_home                                29774 non-null  float64\n",
      " 6   teens_home                               29774 non-null  float64\n",
      " 7   number_complaints                        29774 non-null  float64\n",
      " 8   distinct_stores_visited                  29774 non-null  float64\n",
      " 9   lifetime_spend_groceries                 29774 non-null  float64\n",
      " 10  lifetime_spend_electronics               29774 non-null  float64\n",
      " 11  typical_hour                             29774 non-null  float64\n",
      " 12  lifetime_spend_vegetables                29774 non-null  float64\n",
      " 13  lifetime_spend_nonalcohol_drinks         29774 non-null  float64\n",
      " 14  lifetime_spend_alcohol_drinks            29774 non-null  float64\n",
      " 15  lifetime_spend_meat                      29774 non-null  float64\n",
      " 16  lifetime_spend_fish                      29774 non-null  float64\n",
      " 17  lifetime_spend_hygiene                   29774 non-null  float64\n",
      " 18  lifetime_spend_videogames                29774 non-null  float64\n",
      " 19  lifetime_total_distinct_products         29774 non-null  float64\n",
      " 20  percentage_of_products_bought_promotion  29774 non-null  float64\n",
      " 21  year_first_transaction                   29774 non-null  float64\n",
      " 22  loyalty_card_number                      5802 non-null   float64\n",
      " 23  latitude                                 29774 non-null  float64\n",
      " 24  longitude                                29774 non-null  float64\n",
      " 25  has_loyalty_card                         29774 non-null  int64  \n",
      " 26  family_size                              29774 non-null  float64\n",
      " 27  total_spending                           29774 non-null  float64\n",
      "dtypes: float64(22), int64(5), object(1)\n",
      "memory usage: 6.4+ MB\n"
     ]
    }
   ],
   "source": [
    "customer_info_ppc.info()"
   ]
  },
  {
   "attachments": {},
   "cell_type": "markdown",
   "metadata": {},
   "source": [
    "The `Custoemr Info PPC` dataset will be treated first."
   ]
  },
  {
   "cell_type": "code",
   "execution_count": 4,
   "metadata": {},
   "outputs": [],
   "source": [
    "customer_info_ppc.columns\n",
    "# Loyalty_card_number is useless for this part.\n",
    "# As per advice, binary variables will be dropped for the segmentation, but will be analysed a posteriori\n",
    "# strings, such as customer_name should always be dropped and customer_id, as its values do not represent anything\n",
    "\n",
    "customer_info_seg = customer_info_ppc.drop(['loyalty_card_number', 'has_loyalty_card', 'customer_name', 'customer_id'], axis = 1)"
   ]
  },
  {
   "cell_type": "code",
   "execution_count": 5,
   "metadata": {},
   "outputs": [],
   "source": [
    "test = customer_info_seg.iloc[:1000,:10]"
   ]
  },
  {
   "cell_type": "code",
   "execution_count": 6,
   "metadata": {
    "pycharm": {
     "is_executing": true
    }
   },
   "outputs": [
    {
     "ename": "",
     "evalue": "",
     "output_type": "error",
     "traceback": [
      "\u001B[1;31mCanceled future for execute_request message before replies were done"
     ]
    },
    {
     "ename": "",
     "evalue": "",
     "output_type": "error",
     "traceback": [
      "\u001B[1;31mThe Kernel crashed while executing code in the the current cell or a previous cell. Please review the code in the cell(s) to identify a possible cause of the failure. Click <a href='https://aka.ms/vscodeJupyterKernelCrash'>here</a> for more info. View Jupyter <a href='command:jupyter.viewOutput'>log</a> for further details."
     ]
    }
   ],
   "source": [
    "model = KMeans(n_clusters=4, random_state=0)\n",
    "fit_model = model.fit(test)"
   ]
  },
  {
   "cell_type": "code",
   "execution_count": null,
   "metadata": {},
   "outputs": [
    {
     "data": {
      "text/html": [
       "<div>\n",
       "<style scoped>\n",
       "    .dataframe tbody tr th:only-of-type {\n",
       "        vertical-align: middle;\n",
       "    }\n",
       "\n",
       "    .dataframe tbody tr th {\n",
       "        vertical-align: top;\n",
       "    }\n",
       "\n",
       "    .dataframe thead th {\n",
       "        text-align: right;\n",
       "    }\n",
       "</style>\n",
       "<table border=\"1\" class=\"dataframe\">\n",
       "  <thead>\n",
       "    <tr style=\"text-align: right;\">\n",
       "      <th></th>\n",
       "      <th>highest_education</th>\n",
       "      <th>customer_gender</th>\n",
       "      <th>Age</th>\n",
       "      <th>kids_home</th>\n",
       "      <th>teens_home</th>\n",
       "      <th>number_complaints</th>\n",
       "      <th>distinct_stores_visited</th>\n",
       "      <th>lifetime_spend_groceries</th>\n",
       "      <th>lifetime_spend_electronics</th>\n",
       "      <th>typical_hour</th>\n",
       "      <th>...</th>\n",
       "      <th>lifetime_spend_fish</th>\n",
       "      <th>lifetime_spend_hygiene</th>\n",
       "      <th>lifetime_spend_videogames</th>\n",
       "      <th>lifetime_total_distinct_products</th>\n",
       "      <th>percentage_of_products_bought_promotion</th>\n",
       "      <th>year_first_transaction</th>\n",
       "      <th>latitude</th>\n",
       "      <th>longitude</th>\n",
       "      <th>family_size</th>\n",
       "      <th>total_spending</th>\n",
       "    </tr>\n",
       "  </thead>\n",
       "  <tbody>\n",
       "    <tr>\n",
       "      <th>0</th>\n",
       "      <td>0</td>\n",
       "      <td>0</td>\n",
       "      <td>23</td>\n",
       "      <td>0.0</td>\n",
       "      <td>0.0</td>\n",
       "      <td>0.0</td>\n",
       "      <td>2.0</td>\n",
       "      <td>91.0</td>\n",
       "      <td>20.0</td>\n",
       "      <td>22.0</td>\n",
       "      <td>...</td>\n",
       "      <td>48.0</td>\n",
       "      <td>47.0</td>\n",
       "      <td>105.0</td>\n",
       "      <td>85.0</td>\n",
       "      <td>0.192154</td>\n",
       "      <td>2017.0</td>\n",
       "      <td>38.754263</td>\n",
       "      <td>-9.163397</td>\n",
       "      <td>0.0</td>\n",
       "      <td>1545.0</td>\n",
       "    </tr>\n",
       "    <tr>\n",
       "      <th>1</th>\n",
       "      <td>0</td>\n",
       "      <td>1</td>\n",
       "      <td>41</td>\n",
       "      <td>1.0</td>\n",
       "      <td>0.0</td>\n",
       "      <td>0.0</td>\n",
       "      <td>2.0</td>\n",
       "      <td>197.0</td>\n",
       "      <td>5958.0</td>\n",
       "      <td>21.0</td>\n",
       "      <td>...</td>\n",
       "      <td>80.0</td>\n",
       "      <td>45.0</td>\n",
       "      <td>1964.0</td>\n",
       "      <td>85.0</td>\n",
       "      <td>0.098647</td>\n",
       "      <td>2015.0</td>\n",
       "      <td>38.777761</td>\n",
       "      <td>-9.156197</td>\n",
       "      <td>1.0</td>\n",
       "      <td>10219.0</td>\n",
       "    </tr>\n",
       "    <tr>\n",
       "      <th>2</th>\n",
       "      <td>3</td>\n",
       "      <td>0</td>\n",
       "      <td>36</td>\n",
       "      <td>1.0</td>\n",
       "      <td>1.0</td>\n",
       "      <td>0.0</td>\n",
       "      <td>20.0</td>\n",
       "      <td>397.0</td>\n",
       "      <td>20.0</td>\n",
       "      <td>9.0</td>\n",
       "      <td>...</td>\n",
       "      <td>170.0</td>\n",
       "      <td>46.0</td>\n",
       "      <td>5.0</td>\n",
       "      <td>408.0</td>\n",
       "      <td>0.497251</td>\n",
       "      <td>2008.0</td>\n",
       "      <td>38.785329</td>\n",
       "      <td>-9.127113</td>\n",
       "      <td>2.0</td>\n",
       "      <td>1753.0</td>\n",
       "    </tr>\n",
       "    <tr>\n",
       "      <th>3</th>\n",
       "      <td>0</td>\n",
       "      <td>0</td>\n",
       "      <td>80</td>\n",
       "      <td>3.0</td>\n",
       "      <td>4.0</td>\n",
       "      <td>1.0</td>\n",
       "      <td>2.0</td>\n",
       "      <td>5282.0</td>\n",
       "      <td>237.0</td>\n",
       "      <td>12.0</td>\n",
       "      <td>...</td>\n",
       "      <td>1068.0</td>\n",
       "      <td>617.0</td>\n",
       "      <td>1078.0</td>\n",
       "      <td>1956.0</td>\n",
       "      <td>0.206713</td>\n",
       "      <td>2010.0</td>\n",
       "      <td>38.744086</td>\n",
       "      <td>-9.156589</td>\n",
       "      <td>7.0</td>\n",
       "      <td>11195.0</td>\n",
       "    </tr>\n",
       "    <tr>\n",
       "      <th>4</th>\n",
       "      <td>0</td>\n",
       "      <td>0</td>\n",
       "      <td>23</td>\n",
       "      <td>0.0</td>\n",
       "      <td>0.0</td>\n",
       "      <td>0.0</td>\n",
       "      <td>2.0</td>\n",
       "      <td>82.0</td>\n",
       "      <td>22.0</td>\n",
       "      <td>21.0</td>\n",
       "      <td>...</td>\n",
       "      <td>39.0</td>\n",
       "      <td>48.0</td>\n",
       "      <td>103.0</td>\n",
       "      <td>83.0</td>\n",
       "      <td>0.200625</td>\n",
       "      <td>2015.0</td>\n",
       "      <td>38.756024</td>\n",
       "      <td>-9.162970</td>\n",
       "      <td>0.0</td>\n",
       "      <td>1370.0</td>\n",
       "    </tr>\n",
       "    <tr>\n",
       "      <th>...</th>\n",
       "      <td>...</td>\n",
       "      <td>...</td>\n",
       "      <td>...</td>\n",
       "      <td>...</td>\n",
       "      <td>...</td>\n",
       "      <td>...</td>\n",
       "      <td>...</td>\n",
       "      <td>...</td>\n",
       "      <td>...</td>\n",
       "      <td>...</td>\n",
       "      <td>...</td>\n",
       "      <td>...</td>\n",
       "      <td>...</td>\n",
       "      <td>...</td>\n",
       "      <td>...</td>\n",
       "      <td>...</td>\n",
       "      <td>...</td>\n",
       "      <td>...</td>\n",
       "      <td>...</td>\n",
       "      <td>...</td>\n",
       "      <td>...</td>\n",
       "    </tr>\n",
       "    <tr>\n",
       "      <th>29769</th>\n",
       "      <td>3</td>\n",
       "      <td>0</td>\n",
       "      <td>48</td>\n",
       "      <td>0.0</td>\n",
       "      <td>0.0</td>\n",
       "      <td>1.0</td>\n",
       "      <td>2.0</td>\n",
       "      <td>209.0</td>\n",
       "      <td>5474.0</td>\n",
       "      <td>20.0</td>\n",
       "      <td>...</td>\n",
       "      <td>11.0</td>\n",
       "      <td>57.0</td>\n",
       "      <td>1984.0</td>\n",
       "      <td>112.0</td>\n",
       "      <td>0.096366</td>\n",
       "      <td>2008.0</td>\n",
       "      <td>38.734446</td>\n",
       "      <td>-9.171911</td>\n",
       "      <td>0.0</td>\n",
       "      <td>9730.0</td>\n",
       "    </tr>\n",
       "    <tr>\n",
       "      <th>29770</th>\n",
       "      <td>0</td>\n",
       "      <td>1</td>\n",
       "      <td>37</td>\n",
       "      <td>0.0</td>\n",
       "      <td>0.0</td>\n",
       "      <td>0.0</td>\n",
       "      <td>3.0</td>\n",
       "      <td>185.0</td>\n",
       "      <td>1066.0</td>\n",
       "      <td>15.0</td>\n",
       "      <td>...</td>\n",
       "      <td>41.0</td>\n",
       "      <td>50.0</td>\n",
       "      <td>197.0</td>\n",
       "      <td>22.0</td>\n",
       "      <td>0.118998</td>\n",
       "      <td>2014.0</td>\n",
       "      <td>38.767070</td>\n",
       "      <td>-9.144301</td>\n",
       "      <td>0.0</td>\n",
       "      <td>2416.0</td>\n",
       "    </tr>\n",
       "    <tr>\n",
       "      <th>29771</th>\n",
       "      <td>0</td>\n",
       "      <td>1</td>\n",
       "      <td>22</td>\n",
       "      <td>0.0</td>\n",
       "      <td>0.0</td>\n",
       "      <td>0.0</td>\n",
       "      <td>2.0</td>\n",
       "      <td>83.0</td>\n",
       "      <td>23.0</td>\n",
       "      <td>23.0</td>\n",
       "      <td>...</td>\n",
       "      <td>52.0</td>\n",
       "      <td>51.0</td>\n",
       "      <td>94.0</td>\n",
       "      <td>77.0</td>\n",
       "      <td>0.199432</td>\n",
       "      <td>2016.0</td>\n",
       "      <td>38.728487</td>\n",
       "      <td>-9.164140</td>\n",
       "      <td>0.0</td>\n",
       "      <td>1491.0</td>\n",
       "    </tr>\n",
       "    <tr>\n",
       "      <th>29772</th>\n",
       "      <td>0</td>\n",
       "      <td>1</td>\n",
       "      <td>64</td>\n",
       "      <td>1.0</td>\n",
       "      <td>0.0</td>\n",
       "      <td>1.0</td>\n",
       "      <td>20.0</td>\n",
       "      <td>391.0</td>\n",
       "      <td>20.0</td>\n",
       "      <td>10.0</td>\n",
       "      <td>...</td>\n",
       "      <td>132.0</td>\n",
       "      <td>54.0</td>\n",
       "      <td>5.0</td>\n",
       "      <td>398.0</td>\n",
       "      <td>0.494527</td>\n",
       "      <td>2006.0</td>\n",
       "      <td>38.751123</td>\n",
       "      <td>-9.182512</td>\n",
       "      <td>1.0</td>\n",
       "      <td>1608.0</td>\n",
       "    </tr>\n",
       "    <tr>\n",
       "      <th>29773</th>\n",
       "      <td>3</td>\n",
       "      <td>1</td>\n",
       "      <td>79</td>\n",
       "      <td>1.0</td>\n",
       "      <td>1.0</td>\n",
       "      <td>0.0</td>\n",
       "      <td>2.0</td>\n",
       "      <td>834.0</td>\n",
       "      <td>596.0</td>\n",
       "      <td>18.0</td>\n",
       "      <td>...</td>\n",
       "      <td>103.0</td>\n",
       "      <td>51.0</td>\n",
       "      <td>192.0</td>\n",
       "      <td>27.0</td>\n",
       "      <td>0.092385</td>\n",
       "      <td>2012.0</td>\n",
       "      <td>38.781400</td>\n",
       "      <td>-9.194271</td>\n",
       "      <td>2.0</td>\n",
       "      <td>3019.0</td>\n",
       "    </tr>\n",
       "  </tbody>\n",
       "</table>\n",
       "<p>29774 rows × 24 columns</p>\n",
       "</div>"
      ],
      "text/plain": [
       "       highest_education  customer_gender  Age  kids_home  teens_home  \\\n",
       "0                      0                0   23        0.0         0.0   \n",
       "1                      0                1   41        1.0         0.0   \n",
       "2                      3                0   36        1.0         1.0   \n",
       "3                      0                0   80        3.0         4.0   \n",
       "4                      0                0   23        0.0         0.0   \n",
       "...                  ...              ...  ...        ...         ...   \n",
       "29769                  3                0   48        0.0         0.0   \n",
       "29770                  0                1   37        0.0         0.0   \n",
       "29771                  0                1   22        0.0         0.0   \n",
       "29772                  0                1   64        1.0         0.0   \n",
       "29773                  3                1   79        1.0         1.0   \n",
       "\n",
       "       number_complaints  distinct_stores_visited  lifetime_spend_groceries  \\\n",
       "0                    0.0                      2.0                      91.0   \n",
       "1                    0.0                      2.0                     197.0   \n",
       "2                    0.0                     20.0                     397.0   \n",
       "3                    1.0                      2.0                    5282.0   \n",
       "4                    0.0                      2.0                      82.0   \n",
       "...                  ...                      ...                       ...   \n",
       "29769                1.0                      2.0                     209.0   \n",
       "29770                0.0                      3.0                     185.0   \n",
       "29771                0.0                      2.0                      83.0   \n",
       "29772                1.0                     20.0                     391.0   \n",
       "29773                0.0                      2.0                     834.0   \n",
       "\n",
       "       lifetime_spend_electronics  typical_hour  ...  lifetime_spend_fish  \\\n",
       "0                            20.0          22.0  ...                 48.0   \n",
       "1                          5958.0          21.0  ...                 80.0   \n",
       "2                            20.0           9.0  ...                170.0   \n",
       "3                           237.0          12.0  ...               1068.0   \n",
       "4                            22.0          21.0  ...                 39.0   \n",
       "...                           ...           ...  ...                  ...   \n",
       "29769                      5474.0          20.0  ...                 11.0   \n",
       "29770                      1066.0          15.0  ...                 41.0   \n",
       "29771                        23.0          23.0  ...                 52.0   \n",
       "29772                        20.0          10.0  ...                132.0   \n",
       "29773                       596.0          18.0  ...                103.0   \n",
       "\n",
       "       lifetime_spend_hygiene  lifetime_spend_videogames  \\\n",
       "0                        47.0                      105.0   \n",
       "1                        45.0                     1964.0   \n",
       "2                        46.0                        5.0   \n",
       "3                       617.0                     1078.0   \n",
       "4                        48.0                      103.0   \n",
       "...                       ...                        ...   \n",
       "29769                    57.0                     1984.0   \n",
       "29770                    50.0                      197.0   \n",
       "29771                    51.0                       94.0   \n",
       "29772                    54.0                        5.0   \n",
       "29773                    51.0                      192.0   \n",
       "\n",
       "       lifetime_total_distinct_products  \\\n",
       "0                                  85.0   \n",
       "1                                  85.0   \n",
       "2                                 408.0   \n",
       "3                                1956.0   \n",
       "4                                  83.0   \n",
       "...                                 ...   \n",
       "29769                             112.0   \n",
       "29770                              22.0   \n",
       "29771                              77.0   \n",
       "29772                             398.0   \n",
       "29773                              27.0   \n",
       "\n",
       "       percentage_of_products_bought_promotion  year_first_transaction  \\\n",
       "0                                     0.192154                  2017.0   \n",
       "1                                     0.098647                  2015.0   \n",
       "2                                     0.497251                  2008.0   \n",
       "3                                     0.206713                  2010.0   \n",
       "4                                     0.200625                  2015.0   \n",
       "...                                        ...                     ...   \n",
       "29769                                 0.096366                  2008.0   \n",
       "29770                                 0.118998                  2014.0   \n",
       "29771                                 0.199432                  2016.0   \n",
       "29772                                 0.494527                  2006.0   \n",
       "29773                                 0.092385                  2012.0   \n",
       "\n",
       "        latitude  longitude  family_size  total_spending  \n",
       "0      38.754263  -9.163397          0.0          1545.0  \n",
       "1      38.777761  -9.156197          1.0         10219.0  \n",
       "2      38.785329  -9.127113          2.0          1753.0  \n",
       "3      38.744086  -9.156589          7.0         11195.0  \n",
       "4      38.756024  -9.162970          0.0          1370.0  \n",
       "...          ...        ...          ...             ...  \n",
       "29769  38.734446  -9.171911          0.0          9730.0  \n",
       "29770  38.767070  -9.144301          0.0          2416.0  \n",
       "29771  38.728487  -9.164140          0.0          1491.0  \n",
       "29772  38.751123  -9.182512          1.0          1608.0  \n",
       "29773  38.781400  -9.194271          2.0          3019.0  \n",
       "\n",
       "[29774 rows x 24 columns]"
      ]
     },
     "execution_count": 15,
     "metadata": {},
     "output_type": "execute_result"
    }
   ],
   "source": [
    "customer_info_seg"
   ]
  },
  {
   "attachments": {},
   "cell_type": "markdown",
   "metadata": {},
   "source": [
    "## Scaling"
   ]
  },
  {
   "cell_type": "code",
   "execution_count": null,
   "metadata": {},
   "outputs": [],
   "source": [
    "# Scale the data with Standard Scaler\n",
    "scaler = StandardScaler()\n",
    "X_scaled = scaler.fit_transform(customer_info_seg)"
   ]
  },
  {
   "attachments": {},
   "cell_type": "markdown",
   "metadata": {},
   "source": [
    "## PCA"
   ]
  },
  {
   "cell_type": "code",
   "execution_count": null,
   "metadata": {},
   "outputs": [
    {
     "data": {
      "image/png": "[encoded data removed]",
      "text/plain": [
       "<Figure size 640x480 with 1 Axes>"
      ]
     },
     "metadata": {},
     "output_type": "display_data"
    }
   ],
   "source": [
    "# Find the optimal number of components for PCA\n",
    "pca_range = range(1, len(X_scaled[0]) + 1)\n",
    "pca_scores = []\n",
    "\n",
    "for n_components in pca_range:\n",
    "    pca = PCA(n_components=n_components)\n",
    "    pca.fit(X_scaled)\n",
    "    pca_scores.append(sum(pca.explained_variance_ratio_))\n",
    "\n",
    "plt.plot(pca_range, pca_scores, 'o-')\n",
    "plt.xlabel('Number of PCA Components')\n",
    "plt.ylabel('Cumulative Explained Variance')\n",
    "plt.title('PCA Component Selection')\n",
    "plt.show()"
   ]
  },
  {
   "cell_type": "code",
   "execution_count": null,
   "metadata": {},
   "outputs": [],
   "source": [
    "# Choose the number of components based on the elbow point in the plot )4 or 5)\n",
    "n_components = 5\n",
    "\n",
    "# Perform PCA with the selected number of components\n",
    "pca = PCA(n_components=n_components)\n",
    "customer_info_pca = pca.fit_transform(X_scaled)\n",
    "principal_df = pd.DataFrame(data = customer_info_pca, columns = ['pc1', 'pc2', 'pc3', 'pc4', 'pc5'])\n"
   ]
  },
  {
   "cell_type": "code",
   "execution_count": null,
   "metadata": {},
   "outputs": [
    {
     "data": {
      "text/plain": [
       "KMeans(n_clusters=2, random_state=0)"
      ]
     },
     "execution_count": 19,
     "metadata": {},
     "output_type": "execute_result"
    }
   ],
   "source": [
    "# Fitting a KMeans algorithm with 2 centroids and random state=0\n",
    "kmeans = KMeans(n_clusters=2, random_state=0)\n",
    "\n",
    "# Fitting the kmeans object to our data\n",
    "kmeans.fit(X_scaled)\n"
   ]
  },
  {
   "cell_type": "code",
   "execution_count": null,
   "metadata": {},
   "outputs": [
    {
     "name": "stderr",
     "output_type": "stream",
     "text": [
      "/Users/marcelojunior/opt/anaconda3/envs/MachineLearning1/lib/python3.9/site-packages/daal4py/sklearn/manifold/_t_sne.py:137: FutureWarning: The default initialization in TSNE will change from 'random' to 'pca' in 1.2.\n",
      "  warnings.warn(\"The default initialization in TSNE will change \"\n",
      "/Users/marcelojunior/opt/anaconda3/envs/MachineLearning1/lib/python3.9/site-packages/daal4py/sklearn/manifold/_t_sne.py:153: FutureWarning: The default learning rate in TSNE will change from 200.0 to 'auto' in 1.2.\n",
      "  warnings.warn(\"The default learning rate in TSNE will change \"\n"
     ]
    },
    {
     "ename": "",
     "evalue": "",
     "output_type": "error",
     "traceback": [
      "\u001B[1;31mCanceled future for execute_request message before replies were done"
     ]
    },
    {
     "ename": "",
     "evalue": "",
     "output_type": "error",
     "traceback": [
      "\u001B[1;31mThe Kernel crashed while executing code in the the current cell or a previous cell. Please review the code in the cell(s) to identify a possible cause of the failure. Click <a href='https://aka.ms/vscodeJupyterKernelCrash'>here</a> for more info. View Jupyter <a href='command:jupyter.viewOutput'>log</a> for further details."
     ]
    }
   ],
   "source": [
    "#from sklearn.manifold import TSNE\n",
    "# Reduce the dimensionality with t-SNE\n",
    "#tsne = TSNE(n_components=2, random_state=0)\n",
    "#tsne_result = tsne.fit_transform(X_scaled)\n",
    "\n",
    "\n",
    "# Find the optimal number of clusters using the elbow method\n",
    "wcss = []\n",
    "for i in range(1, 11):\n",
    "    kmeans = KMeans(n_clusters=i, random_state=0)\n",
    "    kmeans.fit(X_scaled)\n",
    "    wcss.append(kmeans.inertia_)\n",
    "\n",
    "# Plot the elbow curve\n",
    "plt.plot(range(1, 11), wcss)\n",
    "plt.title('Elbow Method')\n",
    "plt.xlabel('Number of clusters')\n",
    "plt.ylabel('WCSS')\n",
    "plt.show()"
   ]
  },
  {
   "attachments": {},
   "cell_type": "markdown",
   "metadata": {},
   "source": [
    "# Determine optimal number of clusters"
   ]
  },
  {
   "cell_type": "code",
   "execution_count": null,
   "metadata": {},
   "outputs": [],
   "source": [
    "# Find the optimal number of clusters using silhouette score\n",
    "cluster_range = range(2, 11)\n",
    "silhouette_scores = []\n",
    "\n",
    "#for n_clusters in cluster_range:\n",
    "#    kmeans = KMeans(n_clusters=n_clusters, random_state=0)\n",
    "#    cluster_labels = kmeans.fit_predict(customer_info_pca)\n",
    "    #silhouette_scores.append(silhouette_score(customer_info_pca, cluster_labels))\n",
    "\n",
    "#plt.plot(cluster_range, silhouette_scores, 'o-')\n",
    "#plt.xlabel('Number of Clusters')\n",
    "#plt.ylabel('Silhouette Score')\n",
    "#plt.title('Cluster Selection')\n",
    "#plt.show()\n"
   ]
  },
  {
   "cell_type": "code",
   "execution_count": null,
   "metadata": {},
   "outputs": [
    {
     "ename": "",
     "evalue": "",
     "output_type": "error",
     "traceback": [
      "\u001B[1;31mCanceled future for execute_request message before replies were done"
     ]
    },
    {
     "ename": "",
     "evalue": "",
     "output_type": "error",
     "traceback": [
      "\u001B[1;31mThe Kernel crashed while executing code in the the current cell or a previous cell. Please review the code in the cell(s) to identify a possible cause of the failure. Click <a href='https://aka.ms/vscodeJupyterKernelCrash'>here</a> for more info. View Jupyter <a href='command:jupyter.viewOutput'>log</a> for further details."
     ]
    }
   ],
   "source": [
    "\n",
    "# Choose the number of clusters based on the highest silhouette score\n",
    "n_clusters = 4\n",
    "\n",
    "# Perform KMeans clustering with the selected number of clusters\n",
    "#kmeans = KMeans(n_clusters=n_clusters, random_state=42)\n",
    "#cluster_labels = kmeans.fit_predict(customer_info_pca)\n",
    "\n",
    "# Add the cluster labels to the customer_info dataset\n",
    "#customer_info['cluster'] = cluster_labels"
   ]
  },
  {
   "attachments": {},
   "cell_type": "markdown",
   "metadata": {},
   "source": [
    "# K-Means Clustering"
   ]
  },
  {
   "cell_type": "code",
   "execution_count": null,
   "metadata": {},
   "outputs": [
    {
     "ename": "",
     "evalue": "",
     "output_type": "error",
     "traceback": [
      "\u001B[1;31mCanceled future for execute_request message before replies were done"
     ]
    },
    {
     "ename": "",
     "evalue": "",
     "output_type": "error",
     "traceback": [
      "\u001B[1;31mThe Kernel crashed while executing code in the the current cell or a previous cell. Please review the code in the cell(s) to identify a possible cause of the failure. Click <a href='https://aka.ms/vscodeJupyterKernelCrash'>here</a> for more info. View Jupyter <a href='command:jupyter.viewOutput'>log</a> for further details."
     ]
    }
   ],
   "source": [
    "# Apply k-means clustering with the optimal number of clusters\n",
    "#kmeans = KMeans(n_clusters=4)\n",
    "#kmeans.fit(X_pca)"
   ]
  },
  {
   "attachments": {},
   "cell_type": "markdown",
   "metadata": {},
   "source": [
    "# Visualise the Clusters"
   ]
  },
  {
   "cell_type": "code",
   "execution_count": null,
   "metadata": {},
   "outputs": [],
   "source": [
    "# Plot the clusters\n",
    "sns.scatterplot(x=X_pca[:, 0], y=X_pca[:, 1], hue=kmeans.labels_)\n",
    "plt.title('Customer Segmentation')\n",
    "plt.show()"
   ]
  }
 ],
 "metadata": {
  "kernelspec": {
   "display_name": "MachineLearning1",
   "language": "python",
   "name": "python3"
  },
  "language_info": {
   "codemirror_mode": {
    "name": "ipython",
    "version": 3
   },
   "file_extension": ".py",
   "mimetype": "text/x-python",
   "name": "python",
   "nbconvert_exporter": "python",
   "pygments_lexer": "ipython3",
   "version": "3.9.16"
  },
  "orig_nbformat": 4,
  "vscode": {
   "interpreter": {
    "hash": "922ba157eaa16d7ef9af07ac58bbb1df8c905e282bec37c4714d14142c0bb066"
   }
  }
 },
 "nbformat": 4,
 "nbformat_minor": 2
}
